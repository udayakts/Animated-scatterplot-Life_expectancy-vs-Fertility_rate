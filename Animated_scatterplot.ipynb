{
 "cells": [
  {
   "cell_type": "markdown",
   "metadata": {},
   "source": [
    "# <center>Create Animated Scatterplot"
   ]
  },
  {
   "cell_type": "markdown",
   "metadata": {},
   "source": [
    "### 1. Importing libraries"
   ]
  },
  {
   "cell_type": "code",
   "execution_count": 1,
   "metadata": {},
   "outputs": [],
   "source": [
    "import pandas as pd\n",
    "import seaborn as sns\n",
    "import matplotlib.pyplot as plt\n",
    "import warnings\n",
    "warnings.filterwarnings('ignore')\n",
    "import imageio\n",
    "%matplotlib inline"
   ]
  },
  {
   "cell_type": "markdown",
   "metadata": {},
   "source": [
    "### 2. Reading csv/excel file into a dataframe 'df' with first column as index"
   ]
  },
  {
   "cell_type": "code",
   "execution_count": 2,
   "metadata": {},
   "outputs": [],
   "source": [
    "df_fert = pd.read_csv('gapminder_total_fertility.csv', index_col=0)\n",
    "df_life = pd.read_excel('gapminder_lifeexpectancy.xlsx',index_col=0)\n",
    "df_pop = pd.read_excel('gapminder_population.xlsx', index_col=0)\n",
    "df_cont = pd.read_csv('continent.csv', index_col=0)"
   ]
  },
  {
   "cell_type": "markdown",
   "metadata": {},
   "source": [
    "### 3. Output the first n rows of each dataframe"
   ]
  },
  {
   "cell_type": "code",
   "execution_count": 3,
   "metadata": {},
   "outputs": [
    {
     "data": {
      "text/html": [
       "<div>\n",
       "<style scoped>\n",
       "    .dataframe tbody tr th:only-of-type {\n",
       "        vertical-align: middle;\n",
       "    }\n",
       "\n",
       "    .dataframe tbody tr th {\n",
       "        vertical-align: top;\n",
       "    }\n",
       "\n",
       "    .dataframe thead th {\n",
       "        text-align: right;\n",
       "    }\n",
       "</style>\n",
       "<table border=\"1\" class=\"dataframe\">\n",
       "  <thead>\n",
       "    <tr style=\"text-align: right;\">\n",
       "      <th></th>\n",
       "      <th>1800</th>\n",
       "      <th>1801</th>\n",
       "      <th>1802</th>\n",
       "      <th>1803</th>\n",
       "      <th>1804</th>\n",
       "      <th>1805</th>\n",
       "      <th>1806</th>\n",
       "      <th>1807</th>\n",
       "      <th>1808</th>\n",
       "      <th>1809</th>\n",
       "      <th>...</th>\n",
       "      <th>2006</th>\n",
       "      <th>2007</th>\n",
       "      <th>2008</th>\n",
       "      <th>2009</th>\n",
       "      <th>2010</th>\n",
       "      <th>2011</th>\n",
       "      <th>2012</th>\n",
       "      <th>2013</th>\n",
       "      <th>2014</th>\n",
       "      <th>2015</th>\n",
       "    </tr>\n",
       "    <tr>\n",
       "      <th>Total fertility rate</th>\n",
       "      <th></th>\n",
       "      <th></th>\n",
       "      <th></th>\n",
       "      <th></th>\n",
       "      <th></th>\n",
       "      <th></th>\n",
       "      <th></th>\n",
       "      <th></th>\n",
       "      <th></th>\n",
       "      <th></th>\n",
       "      <th></th>\n",
       "      <th></th>\n",
       "      <th></th>\n",
       "      <th></th>\n",
       "      <th></th>\n",
       "      <th></th>\n",
       "      <th></th>\n",
       "      <th></th>\n",
       "      <th></th>\n",
       "      <th></th>\n",
       "      <th></th>\n",
       "    </tr>\n",
       "  </thead>\n",
       "  <tbody>\n",
       "    <tr>\n",
       "      <th>Abkhazia</th>\n",
       "      <td>NaN</td>\n",
       "      <td>NaN</td>\n",
       "      <td>NaN</td>\n",
       "      <td>NaN</td>\n",
       "      <td>NaN</td>\n",
       "      <td>NaN</td>\n",
       "      <td>NaN</td>\n",
       "      <td>NaN</td>\n",
       "      <td>NaN</td>\n",
       "      <td>NaN</td>\n",
       "      <td>...</td>\n",
       "      <td>NaN</td>\n",
       "      <td>NaN</td>\n",
       "      <td>NaN</td>\n",
       "      <td>NaN</td>\n",
       "      <td>NaN</td>\n",
       "      <td>NaN</td>\n",
       "      <td>NaN</td>\n",
       "      <td>NaN</td>\n",
       "      <td>NaN</td>\n",
       "      <td>NaN</td>\n",
       "    </tr>\n",
       "    <tr>\n",
       "      <th>Afghanistan</th>\n",
       "      <td>7.0</td>\n",
       "      <td>7.0</td>\n",
       "      <td>7.0</td>\n",
       "      <td>7.0</td>\n",
       "      <td>7.0</td>\n",
       "      <td>7.0</td>\n",
       "      <td>7.0</td>\n",
       "      <td>7.0</td>\n",
       "      <td>7.0</td>\n",
       "      <td>7.0</td>\n",
       "      <td>...</td>\n",
       "      <td>6.7</td>\n",
       "      <td>6.46</td>\n",
       "      <td>6.2</td>\n",
       "      <td>5.93</td>\n",
       "      <td>5.66</td>\n",
       "      <td>5.4</td>\n",
       "      <td>5.14</td>\n",
       "      <td>4.9</td>\n",
       "      <td>4.68</td>\n",
       "      <td>4.47</td>\n",
       "    </tr>\n",
       "  </tbody>\n",
       "</table>\n",
       "<p>2 rows × 216 columns</p>\n",
       "</div>"
      ],
      "text/plain": [
       "                      1800  1801  1802  1803  1804  1805  1806  1807  1808  \\\n",
       "Total fertility rate                                                         \n",
       "Abkhazia               NaN   NaN   NaN   NaN   NaN   NaN   NaN   NaN   NaN   \n",
       "Afghanistan            7.0   7.0   7.0   7.0   7.0   7.0   7.0   7.0   7.0   \n",
       "\n",
       "                      1809  ...  2006  2007  2008  2009  2010  2011  2012  \\\n",
       "Total fertility rate        ...                                             \n",
       "Abkhazia               NaN  ...   NaN   NaN   NaN   NaN   NaN   NaN   NaN   \n",
       "Afghanistan            7.0  ...   6.7  6.46   6.2  5.93  5.66   5.4  5.14   \n",
       "\n",
       "                      2013  2014  2015  \n",
       "Total fertility rate                    \n",
       "Abkhazia               NaN   NaN   NaN  \n",
       "Afghanistan            4.9  4.68  4.47  \n",
       "\n",
       "[2 rows x 216 columns]"
      ]
     },
     "execution_count": 3,
     "metadata": {},
     "output_type": "execute_result"
    }
   ],
   "source": [
    "df_fert.head(2)"
   ]
  },
  {
   "cell_type": "code",
   "execution_count": 4,
   "metadata": {},
   "outputs": [],
   "source": [
    "#df_life.head(2)"
   ]
  },
  {
   "cell_type": "code",
   "execution_count": 5,
   "metadata": {},
   "outputs": [],
   "source": [
    "#df_pop.head(2)"
   ]
  },
  {
   "cell_type": "code",
   "execution_count": 6,
   "metadata": {},
   "outputs": [],
   "source": [
    "#df_cont.head(2)"
   ]
  },
  {
   "cell_type": "markdown",
   "metadata": {},
   "source": [
    "### 4. Print the dimensionality of each DataFrames as tuple (rows, columns) \n"
   ]
  },
  {
   "cell_type": "code",
   "execution_count": 7,
   "metadata": {},
   "outputs": [
    {
     "name": "stdout",
     "output_type": "stream",
     "text": [
      "(260, 217) (260, 216) (275, 91) (194, 2)\n"
     ]
    }
   ],
   "source": [
    "print(df_life.shape, df_fert.shape, df_pop.shape, df_cont.shape)"
   ]
  },
  {
   "cell_type": "markdown",
   "metadata": {},
   "source": [
    "### 5. Print the column labels of each DataFrame. df.columns also provides the dtype and length"
   ]
  },
  {
   "cell_type": "code",
   "execution_count": 8,
   "metadata": {},
   "outputs": [
    {
     "name": "stdout",
     "output_type": "stream",
     "text": [
      "Int64Index([1800, 1801, 1802, 1803, 1804, 1805, 1806, 1807, 1808, 1809,\n",
      "            ...\n",
      "            2007, 2008, 2009, 2010, 2011, 2012, 2013, 2014, 2015, 2016],\n",
      "           dtype='int64', length=217)\n",
      "Index(['1800', '1801', '1802', '1803', '1804', '1805', '1806', '1807', '1808',\n",
      "       '1809',\n",
      "       ...\n",
      "       '2006', '2007', '2008', '2009', '2010', '2011', '2012', '2013', '2014',\n",
      "       '2015'],\n",
      "      dtype='object', length=216)\n",
      "Index([         1800,          1810,          1820,          1830,\n",
      "                1840,          1850,          1860,          1870,\n",
      "                1880,          1890,          1900,          1910,\n",
      "                1920,          1930,          1940,          1950,\n",
      "                1951,          1952,          1953,          1954,\n",
      "                1955,          1956,          1957,          1958,\n",
      "                1959,          1960,          1961,          1962,\n",
      "                1963,          1964,          1965,          1966,\n",
      "                1967,          1968,          1969,          1970,\n",
      "                1971,          1972,          1973,          1974,\n",
      "                1975,          1976,          1977,          1978,\n",
      "                1979,          1980,          1981,          1982,\n",
      "                1983,          1984,          1985,          1986,\n",
      "                1987,          1988,          1989,          1990,\n",
      "                1991,          1992,          1993,          1994,\n",
      "                1995,          1996,          1997,          1998,\n",
      "                1999,          2000,          2001,          2002,\n",
      "                2003,          2004,          2005,          2006,\n",
      "                2007,          2008,          2009,          2010,\n",
      "                2011,          2012,          2013,          2014,\n",
      "                2015, 'Unnamed: 82', 'Unnamed: 83', 'Unnamed: 84',\n",
      "       'Unnamed: 85', 'Unnamed: 86', 'Unnamed: 87', 'Unnamed: 88',\n",
      "       'Unnamed: 89', 'Unnamed: 90', 'Unnamed: 91'],\n",
      "      dtype='object')\n",
      "Index(['country', 'continent'], dtype='object')\n"
     ]
    }
   ],
   "source": [
    "print(df_life.columns)\n",
    "print(df_fert.columns) # notice that the dtype of column labels is object!\n",
    "print(df_pop.columns) # notice that the columns with labels 'Unnamed*'\n",
    "print(df_cont.columns)"
   ]
  },
  {
   "cell_type": "markdown",
   "metadata": {},
   "source": [
    "### 6. Columns containing specific strings are droped using df.filter(). Note that this routine does not filter a dataframe on its contents. The filter is applied to the labels of the index."
   ]
  },
  {
   "cell_type": "code",
   "execution_count": 9,
   "metadata": {},
   "outputs": [
    {
     "data": {
      "text/plain": [
       "Index([1800, 1810, 1820, 1830, 1840, 1850, 1860, 1870, 1880, 1890, 1900, 1910,\n",
       "       1920, 1930, 1940, 1950, 1951, 1952, 1953, 1954, 1955, 1956, 1957, 1958,\n",
       "       1959, 1960, 1961, 1962, 1963, 1964, 1965, 1966, 1967, 1968, 1969, 1970,\n",
       "       1971, 1972, 1973, 1974, 1975, 1976, 1977, 1978, 1979, 1980, 1981, 1982,\n",
       "       1983, 1984, 1985, 1986, 1987, 1988, 1989, 1990, 1991, 1992, 1993, 1994,\n",
       "       1995, 1996, 1997, 1998, 1999, 2000, 2001, 2002, 2003, 2004, 2005, 2006,\n",
       "       2007, 2008, 2009, 2010, 2011, 2012, 2013, 2014, 2015],\n",
       "      dtype='object')"
      ]
     },
     "execution_count": 9,
     "metadata": {},
     "output_type": "execute_result"
    }
   ],
   "source": [
    "df_pop = df_pop.drop(df_pop.filter(regex='Unnamed').columns, axis=1)\n",
    "df_pop.columns"
   ]
  },
  {
   "cell_type": "markdown",
   "metadata": {},
   "source": [
    "### 7. df.astype() is used to cast a pandas object to a specified dtype."
   ]
  },
  {
   "cell_type": "code",
   "execution_count": 10,
   "metadata": {},
   "outputs": [],
   "source": [
    "df_fert.columns = df_fert.columns.astype(int)"
   ]
  },
  {
   "cell_type": "code",
   "execution_count": 11,
   "metadata": {},
   "outputs": [
    {
     "name": "stdout",
     "output_type": "stream",
     "text": [
      "Int64Index([1800, 1801, 1802, 1803, 1804, 1805, 1806, 1807, 1808, 1809,\n",
      "            ...\n",
      "            2006, 2007, 2008, 2009, 2010, 2011, 2012, 2013, 2014, 2015],\n",
      "           dtype='int64', length=216)\n"
     ]
    }
   ],
   "source": [
    "print(df_fert.columns) # notice that the dtype of column labels is changed from object to int64!"
   ]
  },
  {
   "cell_type": "markdown",
   "metadata": {},
   "source": [
    "### 8. Print the index (row labels) of each DataFrame using df.index, which also provides the dtype, index column name and the number of row."
   ]
  },
  {
   "cell_type": "code",
   "execution_count": 12,
   "metadata": {},
   "outputs": [
    {
     "name": "stdout",
     "output_type": "stream",
     "text": [
      "Index(['Abkhazia', 'Afghanistan', 'Akrotiri and Dhekelia', 'Albania',\n",
      "       'Algeria', 'American Samoa', 'Andorra', 'Angola', 'Anguilla',\n",
      "       'Antigua and Barbuda',\n",
      "       ...\n",
      "       'Vietnam', 'Virgin Islands (U.S.)', 'North Yemen (former)',\n",
      "       'South Yemen (former)', 'Yemen', 'Yugoslavia', 'Zambia', 'Zimbabwe',\n",
      "       'Åland', 'Åland'],\n",
      "      dtype='object', name='Total fertility rate', length=260)\n",
      "-------------\n",
      "Index(['Abkhazia', 'Afghanistan', 'Akrotiri and Dhekelia', 'Albania',\n",
      "       'Algeria', 'American Samoa', 'Andorra', 'Angola', 'Anguilla',\n",
      "       'Antigua and Barbuda',\n",
      "       ...\n",
      "       'Vietnam', 'Virgin Islands (U.S.)', 'North Yemen (former)',\n",
      "       'South Yemen (former)', 'Yemen', 'Yugoslavia', 'Zambia', 'Zimbabwe',\n",
      "       'Åland', 'South Sudan'],\n",
      "      dtype='object', name='Life expectancy', length=260)\n",
      "-------------\n",
      "Index(['Abkhazia', 'Afghanistan', 'Akrotiri and Dhekelia', 'Albania',\n",
      "       'Algeria', 'American Samoa', 'Andorra', 'Angola', 'Anguilla',\n",
      "       'Antigua and Barbuda',\n",
      "       ...\n",
      "       'British Indian Ocean Territory', 'Clipperton',\n",
      "       'French Southern and Antarctic Lands', 'Gaza Strip',\n",
      "       'Heard and McDonald Islands', 'Northern Marianas',\n",
      "       'South Georgia and the South Sandwich Islands',\n",
      "       'US Minor Outlying Islands', 'Virgin Islands', 'West Bank'],\n",
      "      dtype='object', name='Total population', length=275)\n",
      "-------------\n",
      "Int64Index([  0,   1,   2,   3,   4,   5,   6,   7,   8,   9,\n",
      "            ...\n",
      "            184, 185, 186, 187, 188, 189, 190, 191, 192, 193],\n",
      "           dtype='int64', length=194)\n"
     ]
    }
   ],
   "source": [
    "print(df_fert.index)\n",
    "print('-------------')\n",
    "print(df_life.index)\n",
    "print('-------------')\n",
    "print(df_pop.index)\n",
    "print('-------------')\n",
    "print(df_cont.index)"
   ]
  },
  {
   "cell_type": "markdown",
   "metadata": {},
   "source": [
    "### 9. Changing the index column label to 'country'."
   ]
  },
  {
   "cell_type": "code",
   "execution_count": 13,
   "metadata": {},
   "outputs": [],
   "source": [
    "df_fert.index.name = df_life.index.name = df_pop.index.name = 'country'"
   ]
  },
  {
   "cell_type": "markdown",
   "metadata": {},
   "source": [
    "### 10. When we reset the index as below, the old index is added as a column, and a new sequential index is used:"
   ]
  },
  {
   "cell_type": "code",
   "execution_count": 14,
   "metadata": {},
   "outputs": [],
   "source": [
    "df_fert.reset_index(inplace=True)\n",
    "df_life.reset_index(inplace=True)\n",
    "df_pop.reset_index(inplace=True)\n",
    "df_cont.reset_index(inplace=True)"
   ]
  },
  {
   "cell_type": "code",
   "execution_count": 15,
   "metadata": {},
   "outputs": [
    {
     "name": "stdout",
     "output_type": "stream",
     "text": [
      "       country  1800  1801  1802  1803  1804  1805  1806  1807  1808  ...  \\\n",
      "0     Abkhazia   NaN   NaN   NaN   NaN   NaN   NaN   NaN   NaN   NaN  ...   \n",
      "1  Afghanistan   7.0   7.0   7.0   7.0   7.0   7.0   7.0   7.0   7.0  ...   \n",
      "\n",
      "   2006  2007  2008  2009  2010  2011  2012  2013  2014  2015  \n",
      "0   NaN   NaN   NaN   NaN   NaN   NaN   NaN   NaN   NaN   NaN  \n",
      "1   6.7  6.46   6.2  5.93  5.66   5.4  5.14   4.9  4.68  4.47  \n",
      "\n",
      "[2 rows x 217 columns]\n",
      "-------------\n",
      "       country   1800  1801   1802   1803   1804   1805   1806   1807   1808  \\\n",
      "0     Abkhazia    NaN   NaN    NaN    NaN    NaN    NaN    NaN    NaN    NaN   \n",
      "1  Afghanistan  28.21  28.2  28.19  28.18  28.17  28.16  28.15  28.14  28.13   \n",
      "\n",
      "   ...  2007  2008  2009  2010  2011  2012  2013  2014  2015   2016  \n",
      "0  ...   NaN   NaN   NaN   NaN   NaN   NaN   NaN   NaN   NaN    NaN  \n",
      "1  ...  52.4  52.8  53.3  53.6  54.0  54.4  54.8  54.9  53.8  52.72  \n",
      "\n",
      "[2 rows x 218 columns]\n",
      "-------------\n",
      "       country       1800       1810       1820       1830       1840  \\\n",
      "0     Abkhazia        NaN        NaN        NaN        NaN        NaN   \n",
      "1  Afghanistan  3280000.0  3280000.0  3323519.0  3448982.0  3625022.0   \n",
      "\n",
      "        1850       1860       1870       1880  ...        2006        2007  \\\n",
      "0        NaN        NaN        NaN        NaN  ...         NaN         NaN   \n",
      "1  3810047.0  3973968.0  4169690.0  4419695.0  ...  25183615.0  25877544.0   \n",
      "\n",
      "         2008        2009        2010        2011        2012        2013  \\\n",
      "0         NaN         NaN         NaN         NaN         NaN         NaN   \n",
      "1  26528741.0  27207291.0  27962207.0  28809167.0  29726803.0  30682500.0   \n",
      "\n",
      "         2014        2015  \n",
      "0         NaN         NaN  \n",
      "1  31627506.0  32526562.0  \n",
      "\n",
      "[2 rows x 82 columns]\n"
     ]
    }
   ],
   "source": [
    "print(df_fert.head(2))\n",
    "print('-------------')\n",
    "print(df_life.head(2))\n",
    "print('-------------')\n",
    "print(df_pop.head(2))"
   ]
  },
  {
   "cell_type": "code",
   "execution_count": 16,
   "metadata": {},
   "outputs": [
    {
     "data": {
      "text/html": [
       "<div>\n",
       "<style scoped>\n",
       "    .dataframe tbody tr th:only-of-type {\n",
       "        vertical-align: middle;\n",
       "    }\n",
       "\n",
       "    .dataframe tbody tr th {\n",
       "        vertical-align: top;\n",
       "    }\n",
       "\n",
       "    .dataframe thead th {\n",
       "        text-align: right;\n",
       "    }\n",
       "</style>\n",
       "<table border=\"1\" class=\"dataframe\">\n",
       "  <thead>\n",
       "    <tr style=\"text-align: right;\">\n",
       "      <th></th>\n",
       "      <th>country</th>\n",
       "      <th>continent</th>\n",
       "    </tr>\n",
       "  </thead>\n",
       "  <tbody>\n",
       "    <tr>\n",
       "      <th>0</th>\n",
       "      <td>Algeria</td>\n",
       "      <td>Africa</td>\n",
       "    </tr>\n",
       "    <tr>\n",
       "      <th>1</th>\n",
       "      <td>Angola</td>\n",
       "      <td>Africa</td>\n",
       "    </tr>\n",
       "    <tr>\n",
       "      <th>2</th>\n",
       "      <td>Benin</td>\n",
       "      <td>Africa</td>\n",
       "    </tr>\n",
       "  </tbody>\n",
       "</table>\n",
       "</div>"
      ],
      "text/plain": [
       "   country continent\n",
       "0  Algeria    Africa\n",
       "1   Angola    Africa\n",
       "2    Benin    Africa"
      ]
     },
     "execution_count": 16,
     "metadata": {},
     "output_type": "execute_result"
    }
   ],
   "source": [
    "df_cont.drop(columns='index', inplace=True)\n",
    "df_cont.head(3)"
   ]
  },
  {
   "cell_type": "markdown",
   "metadata": {},
   "source": [
    "### 11. Unpivot a DataFrame from wide to long format, optionally leaving identifiers set.\n",
    "\n",
    "* This function is useful to massage a DataFrame into a format where one or more columns are identifier variables (id_vars), while all other columns, considered measured variables (value_vars), are “unpivoted” to the row axis, leaving just two non-identifier columns, ‘variable’ and ‘value’."
   ]
  },
  {
   "cell_type": "code",
   "execution_count": 17,
   "metadata": {},
   "outputs": [],
   "source": [
    "df_fert = df_fert.melt(id_vars='country', var_name='year', value_name='fertility_rate')\n",
    "df_life = df_life.melt(id_vars='country', var_name='year', value_name='life_expectancy')\n",
    "df_pop = df_pop.melt(id_vars='country', var_name='year', value_name='population')"
   ]
  },
  {
   "cell_type": "markdown",
   "metadata": {},
   "source": [
    "### 12. df_fert is merged with df_pop and df_life: 'use intersection of keys from both frames, similar to a SQL inner join; preserve the order of the left keys'."
   ]
  },
  {
   "cell_type": "code",
   "execution_count": 18,
   "metadata": {},
   "outputs": [],
   "source": [
    "df = df_fert.merge(df_life).merge(df_pop).merge(df_cont)"
   ]
  },
  {
   "cell_type": "code",
   "execution_count": 19,
   "metadata": {},
   "outputs": [
    {
     "data": {
      "text/html": [
       "<div>\n",
       "<style scoped>\n",
       "    .dataframe tbody tr th:only-of-type {\n",
       "        vertical-align: middle;\n",
       "    }\n",
       "\n",
       "    .dataframe tbody tr th {\n",
       "        vertical-align: top;\n",
       "    }\n",
       "\n",
       "    .dataframe thead th {\n",
       "        text-align: right;\n",
       "    }\n",
       "</style>\n",
       "<table border=\"1\" class=\"dataframe\">\n",
       "  <thead>\n",
       "    <tr style=\"text-align: right;\">\n",
       "      <th></th>\n",
       "      <th>country</th>\n",
       "      <th>year</th>\n",
       "      <th>fertility_rate</th>\n",
       "      <th>life_expectancy</th>\n",
       "      <th>population</th>\n",
       "      <th>continent</th>\n",
       "      <th>pop_million</th>\n",
       "    </tr>\n",
       "  </thead>\n",
       "  <tbody>\n",
       "    <tr>\n",
       "      <th>0</th>\n",
       "      <td>Afghanistan</td>\n",
       "      <td>1800</td>\n",
       "      <td>7.0</td>\n",
       "      <td>28.21</td>\n",
       "      <td>3280000.0</td>\n",
       "      <td>Asia</td>\n",
       "      <td>3.280000</td>\n",
       "    </tr>\n",
       "    <tr>\n",
       "      <th>1</th>\n",
       "      <td>Afghanistan</td>\n",
       "      <td>1810</td>\n",
       "      <td>7.0</td>\n",
       "      <td>28.11</td>\n",
       "      <td>3280000.0</td>\n",
       "      <td>Asia</td>\n",
       "      <td>3.280000</td>\n",
       "    </tr>\n",
       "    <tr>\n",
       "      <th>2</th>\n",
       "      <td>Afghanistan</td>\n",
       "      <td>1820</td>\n",
       "      <td>7.0</td>\n",
       "      <td>28.01</td>\n",
       "      <td>3323519.0</td>\n",
       "      <td>Asia</td>\n",
       "      <td>3.323519</td>\n",
       "    </tr>\n",
       "  </tbody>\n",
       "</table>\n",
       "</div>"
      ],
      "text/plain": [
       "       country  year  fertility_rate  life_expectancy  population continent  \\\n",
       "0  Afghanistan  1800             7.0            28.21   3280000.0      Asia   \n",
       "1  Afghanistan  1810             7.0            28.11   3280000.0      Asia   \n",
       "2  Afghanistan  1820             7.0            28.01   3323519.0      Asia   \n",
       "\n",
       "   pop_million  \n",
       "0     3.280000  \n",
       "1     3.280000  \n",
       "2     3.323519  "
      ]
     },
     "execution_count": 19,
     "metadata": {},
     "output_type": "execute_result"
    }
   ],
   "source": [
    "df['pop_million']=df['population']/1000000\n",
    "df.head(3)"
   ]
  },
  {
   "cell_type": "code",
   "execution_count": 20,
   "metadata": {},
   "outputs": [
    {
     "data": {
      "text/plain": [
       "<AxesSubplot:>"
      ]
     },
     "execution_count": 20,
     "metadata": {},
     "output_type": "execute_result"
    },
    {
     "data": {
      "image/png": "[encoded data removed]",
      "text/plain": [
       "<Figure size 432x288 with 2 Axes>"
      ]
     },
     "metadata": {
      "needs_background": "light"
     },
     "output_type": "display_data"
    }
   ],
   "source": [
    "sns.heatmap(df.isnull())"
   ]
  },
  {
   "cell_type": "markdown",
   "metadata": {},
   "source": [
    "### 13. Plotting life_expectency of a few selected countries over years"
   ]
  },
  {
   "cell_type": "code",
   "execution_count": 21,
   "metadata": {},
   "outputs": [
    {
     "data": {
      "text/plain": [
       "<AxesSubplot:xlabel='year', ylabel='life_expectancy'>"
      ]
     },
     "execution_count": 21,
     "metadata": {},
     "output_type": "execute_result"
    },
    {
     "data": {
      "image/png": "[encoded data removed]",
      "text/plain": [
       "<Figure size 432x288 with 1 Axes>"
      ]
     },
     "metadata": {
      "needs_background": "light"
     },
     "output_type": "display_data"
    }
   ],
   "source": [
    "df_subset = df.loc[df['country'].isin(['France', 'Germany', 'Sweden', 'India', 'China', 'Pakistan'])]\n",
    "sns.lineplot(x='year', y='life_expectancy', hue='country', data=df_subset)"
   ]
  },
  {
   "cell_type": "code",
   "execution_count": 22,
   "metadata": {},
   "outputs": [
    {
     "data": {
      "text/plain": [
       "<AxesSubplot:xlabel='year', ylabel='life_expectancy'>"
      ]
     },
     "execution_count": 22,
     "metadata": {},
     "output_type": "execute_result"
    },
    {
     "data": {
      "image/png": "[encoded data removed]",
      "text/plain": [
       "<Figure size 432x288 with 1 Axes>"
      ]
     },
     "metadata": {
      "needs_background": "light"
     },
     "output_type": "display_data"
    }
   ],
   "source": [
    "sns.scatterplot(x='year', y='life_expectancy', hue='country', data=df_subset, alpha=0.6) \n",
    "# Notice that before 1960, the data contains too many gaps"
   ]
  },
  {
   "cell_type": "markdown",
   "metadata": {},
   "source": [
    "### 14. Create one plot for each year between 1960 and 2015 (before that, the data contains too many gaps). "
   ]
  },
  {
   "cell_type": "code",
   "execution_count": 23,
   "metadata": {},
   "outputs": [
    {
     "data": {
      "text/html": [
       "<div>\n",
       "<style scoped>\n",
       "    .dataframe tbody tr th:only-of-type {\n",
       "        vertical-align: middle;\n",
       "    }\n",
       "\n",
       "    .dataframe tbody tr th {\n",
       "        vertical-align: top;\n",
       "    }\n",
       "\n",
       "    .dataframe thead th {\n",
       "        text-align: right;\n",
       "    }\n",
       "</style>\n",
       "<table border=\"1\" class=\"dataframe\">\n",
       "  <thead>\n",
       "    <tr style=\"text-align: right;\">\n",
       "      <th></th>\n",
       "      <th>country</th>\n",
       "      <th>year</th>\n",
       "      <th>fertility_rate</th>\n",
       "      <th>life_expectancy</th>\n",
       "      <th>population</th>\n",
       "      <th>continent</th>\n",
       "      <th>pop_million</th>\n",
       "    </tr>\n",
       "  </thead>\n",
       "  <tbody>\n",
       "    <tr>\n",
       "      <th>25</th>\n",
       "      <td>Afghanistan</td>\n",
       "      <td>1960</td>\n",
       "      <td>7.67</td>\n",
       "      <td>31.94</td>\n",
       "      <td>8994793.0</td>\n",
       "      <td>Asia</td>\n",
       "      <td>8.994793</td>\n",
       "    </tr>\n",
       "    <tr>\n",
       "      <th>106</th>\n",
       "      <td>Albania</td>\n",
       "      <td>1960</td>\n",
       "      <td>6.19</td>\n",
       "      <td>62.87</td>\n",
       "      <td>1636054.0</td>\n",
       "      <td>Europe</td>\n",
       "      <td>1.636054</td>\n",
       "    </tr>\n",
       "    <tr>\n",
       "      <th>187</th>\n",
       "      <td>Algeria</td>\n",
       "      <td>1960</td>\n",
       "      <td>7.65</td>\n",
       "      <td>47.50</td>\n",
       "      <td>11124892.0</td>\n",
       "      <td>Africa</td>\n",
       "      <td>11.124892</td>\n",
       "    </tr>\n",
       "  </tbody>\n",
       "</table>\n",
       "</div>"
      ],
      "text/plain": [
       "         country  year  fertility_rate  life_expectancy  population continent  \\\n",
       "25   Afghanistan  1960            7.67            31.94   8994793.0      Asia   \n",
       "106      Albania  1960            6.19            62.87   1636054.0    Europe   \n",
       "187      Algeria  1960            7.65            47.50  11124892.0    Africa   \n",
       "\n",
       "     pop_million  \n",
       "25      8.994793  \n",
       "106     1.636054  \n",
       "187    11.124892  "
      ]
     },
     "execution_count": 23,
     "metadata": {},
     "output_type": "execute_result"
    }
   ],
   "source": [
    "df_1960=df[df['year']==1960]\n",
    "df_1960.head(3)"
   ]
  },
  {
   "cell_type": "code",
   "execution_count": 31,
   "metadata": {},
   "outputs": [
    {
     "data": {
      "text/plain": [
       "Text(2779    30.53\n",
       "Name: life_expectancy, dtype: float64, 2779    3.99\n",
       "Name: fertility_rate, dtype: float64, 'China')"
      ]
     },
     "execution_count": 31,
     "metadata": {},
     "output_type": "execute_result"
    },
    {
     "data": {
      "image/png": "[encoded data removed]",
      "text/plain": [
       "<Figure size 432x288 with 1 Axes>"
      ]
     },
     "metadata": {},
     "output_type": "display_data"
    }
   ],
   "source": [
    "#plt.figure(figsize=(8,6))\n",
    "min_norm = df_1960.pop_million.min()/df.pop_million.max()\n",
    "max_norm = df_1960.pop_million.max()/df.pop_million.max()\n",
    "sns.scatterplot(data=df_1960, x='life_expectancy', y='fertility_rate', size='pop_million', hue='continent', sizes=(100*min_norm, 1000*max_norm), alpha=0.75)\n",
    "sns.set_style('darkgrid')\n",
    "plt.axis((20, 90, 0, 10))\n",
    "plt.legend(bbox_to_anchor=(1.25, 1))\n",
    "plt.title('1960', fontsize=20)\n",
    "plt.xlabel('Fertility rate', fontsize=14)\n",
    "plt.ylabel('Life expectancy', fontsize=14)\n",
    "plt.text(x=df_1960['life_expectancy'].loc[df_1960['country']=='India'], y=df_1960['fertility_rate'].loc[df_1960['country']=='India'], s='India', fontsize=14 )\n",
    "plt.text(x=df_1960['life_expectancy'].loc[df_1960['country']=='China'], y=df_1960['fertility_rate'].loc[df_1960['country']=='China'], s='China', fontsize=14 )"
   ]
  },
  {
   "cell_type": "markdown",
   "metadata": {},
   "source": [
    "### 15. Write a 'for' loop that goes through each year and produces a scatterplot. \n",
    "\n",
    "    1. Save each scatterplot to a separate file containing the year in the filename, e.g. lifeexpVsfert_1999.png.\n",
    "    2. IMPORTANT HINT! After saving the plot call plt.close() to remove the plot from the notebook.\n",
    "    3. Use the function plt.axis((xmin, xmax, ymin, ymax)) to fix the coordinates of the plot."
   ]
  },
  {
   "cell_type": "code",
   "execution_count": 25,
   "metadata": {
    "scrolled": true
   },
   "outputs": [],
   "source": [
    "df.year = df.year.astype(int)\n",
    "def yearly_plot(year):\n",
    "    plt.figure(figsize = (10,10))\n",
    "    sns.set_style('darkgrid')\n",
    "    df_year=df[df['year']==year]\n",
    "    year_min_norm = df_year.pop_million.min()/df.pop_million.max()\n",
    "    year_max_norm = df_year.pop_million.max()/df.pop_million.max()\n",
    "    sns.scatterplot(data=df_year, x='life_expectancy', y='fertility_rate', size='pop_million', hue='continent', sizes=(100*year_min_norm, 1000*year_max_norm), alpha=0.75)\n",
    "    plt.title(year, fontsize=20)\n",
    "    plt.xlabel('Fertility rate', fontsize=14)\n",
    "    plt.ylabel('Life expectancy', fontsize=14)\n",
    "    plt.axis((20, 90, 0, 10))\n",
    "    plt.text(x=df_year['life_expectancy'].loc[df_year['country']=='India'], y=df_year['fertility_rate'].loc[df_year['country']=='India'], s='India', fontsize=14 )\n",
    "    plt.text(x=df_year['life_expectancy'].loc[df_year['country']=='China'], y=df_year['fertility_rate'].loc[df_year['country']=='China'], s='China', fontsize=14 )\n",
    "    plt.savefig('lifeexpVsfert_'+str(year)+'.png', dpi=300)\n",
    "    plt.close()\n",
    "    #ax.savefig('lifeexpVsfert_{}.png'.format(year))\n",
    "    #plt.legend(bbox_to_anchor=(1.25, 1))"
   ]
  },
  {
   "cell_type": "markdown",
   "metadata": {},
   "source": [
    "### 16. Create an animated scatterplot showing the correlation between life expectancy and fertility"
   ]
  },
  {
   "cell_type": "code",
   "execution_count": 26,
   "metadata": {},
   "outputs": [],
   "source": [
    "images = []\n",
    "\n",
    "for year in range(1960, 2016):\n",
    "    yearly_plot(year)\n",
    "    filename = 'lifeexpVsfert_{}.png'.format(year)\n",
    "    images.append(imageio.imread(filename))\n",
    "#\n",
    "imageio.mimsave('lifeexpVsfert.gif', images, fps=5)"
   ]
  },
  {
   "cell_type": "code",
   "execution_count": 27,
   "metadata": {},
   "outputs": [],
   "source": [
    "#ls -lt"
   ]
  },
  {
   "cell_type": "code",
   "execution_count": 28,
   "metadata": {},
   "outputs": [],
   "source": [
    "#rm lifeexpVsfert*"
   ]
  },
  {
   "cell_type": "markdown",
   "metadata": {},
   "source": [
    "![](lifeexpVsfert.gif)"
   ]
  },
  {
   "cell_type": "code",
   "execution_count": null,
   "metadata": {},
   "outputs": [],
   "source": []
  }
 ],
 "metadata": {
  "kernelspec": {
   "display_name": "Python 3",
   "language": "python",
   "name": "python3"
  },
  "language_info": {
   "codemirror_mode": {
    "name": "ipython",
    "version": 3
   },
   "file_extension": ".py",
   "mimetype": "text/x-python",
   "name": "python",
   "nbconvert_exporter": "python",
   "pygments_lexer": "ipython3",
   "version": "3.7.10"
  }
 },
 "nbformat": 4,
 "nbformat_minor": 4
}
